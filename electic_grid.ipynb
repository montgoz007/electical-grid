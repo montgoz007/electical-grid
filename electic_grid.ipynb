{
 "cells": [
  {
   "cell_type": "code",
   "execution_count": 2,
   "metadata": {},
   "outputs": [],
   "source": [
    "import pandas as pd \n",
    "import numpy as np"
   ]
  }
 ],
 "metadata": {
  "interpreter": {
   "hash": "6d529639a3043f15ea50218449268f84f9ab6e6d9f9b2bbc7e080e4513256e12"
  },
  "kernelspec": {
   "display_name": "Python 3.7.10 64-bit ('montVenv': conda)",
   "language": "python",
   "name": "python3"
  },
  "language_info": {
   "codemirror_mode": {
    "name": "ipython",
    "version": 3
   },
   "file_extension": ".py",
   "mimetype": "text/x-python",
   "name": "python",
   "nbconvert_exporter": "python",
   "pygments_lexer": "ipython3",
   "version": "3.7.10"
  },
  "orig_nbformat": 4
 },
 "nbformat": 4,
 "nbformat_minor": 2
}
