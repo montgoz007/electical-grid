{
 "cells": [
  {
   "cell_type": "code",
   "execution_count": 2,
   "metadata": {},
   "outputs": [],
   "source": [
    "import skorch\n",
    "import numpy as np\n",
    "from sklearn.datasets import make_classification\n",
    "from torch import nn\n",
    "from skorch import NeuralNetClassifier"
   ]
  },
  {
   "cell_type": "code",
   "execution_count": 3,
   "metadata": {},
   "outputs": [
    {
     "name": "stdout",
     "output_type": "stream",
     "text": [
      "  epoch    train_loss    valid_acc    valid_loss     dur\n",
      "-------  ------------  -----------  ------------  ------\n",
      "      1        \u001b[36m0.7012\u001b[0m       \u001b[32m0.5050\u001b[0m        \u001b[35m0.6955\u001b[0m  0.0353\n",
      "      2        \u001b[36m0.6872\u001b[0m       \u001b[32m0.5150\u001b[0m        \u001b[35m0.6897\u001b[0m  0.0180\n",
      "      3        \u001b[36m0.6737\u001b[0m       \u001b[32m0.5500\u001b[0m        \u001b[35m0.6832\u001b[0m  0.0210\n",
      "      4        \u001b[36m0.6660\u001b[0m       \u001b[32m0.6250\u001b[0m        \u001b[35m0.6730\u001b[0m  0.0160\n",
      "      5        \u001b[36m0.6583\u001b[0m       \u001b[32m0.6450\u001b[0m        \u001b[35m0.6671\u001b[0m  0.0194\n",
      "      6        \u001b[36m0.6470\u001b[0m       \u001b[32m0.6600\u001b[0m        \u001b[35m0.6607\u001b[0m  0.0202\n",
      "      7        \u001b[36m0.6420\u001b[0m       \u001b[32m0.6850\u001b[0m        \u001b[35m0.6508\u001b[0m  0.0212\n",
      "      8        \u001b[36m0.6212\u001b[0m       \u001b[32m0.6900\u001b[0m        \u001b[35m0.6416\u001b[0m  0.0229\n",
      "      9        \u001b[36m0.6210\u001b[0m       0.6900        \u001b[35m0.6334\u001b[0m  0.0209\n",
      "     10        \u001b[36m0.6121\u001b[0m       \u001b[32m0.7100\u001b[0m        \u001b[35m0.6284\u001b[0m  0.0228\n"
     ]
    }
   ],
   "source": [
    "X, y = make_classification(1000, 20, n_informative=10, random_state=0)\n",
    "X = X.astype(np.float32)\n",
    "y = y.astype(np.int64)\n",
    "\n",
    "class MyModule(nn.Module):\n",
    "    def __init__(self, num_units=10, nonlin=nn.ReLU()):\n",
    "        super(MyModule, self).__init__()\n",
    "        self.dense0 = nn.Linear(20, num_units)\n",
    "        self.nonlin = nonlin\n",
    "        self.dropout = nn.Dropout(0.5)\n",
    "        self.dense1 = nn.Linear(num_units, num_units)\n",
    "        self.output = nn.Linear(num_units, 2)\n",
    "        self.softmax = nn.Softmax(dim=-1)\n",
    "\n",
    "    def forward(self, X, **kwargs):\n",
    "        X = self.nonlin(self.dense0(X))\n",
    "        X = self.dropout(X)\n",
    "        X = self.nonlin(self.dense1(X))\n",
    "        X = self.softmax(self.output(X))\n",
    "        return X\n",
    "\n",
    "model = NeuralNetClassifier(\n",
    "    MyModule,\n",
    "    max_epochs=10,\n",
    "    lr=0.1,\n",
    "\n",
    "    # Shuffle training data on each epoch\n",
    "    iterator_train__shuffle=True,\n",
    ")\n",
    "\n",
    "model.fit(X, y)\n",
    "\n",
    "y_proba = model.predict_proba(X)"
   ]
  }
 ],
 "metadata": {
  "interpreter": {
   "hash": "6d529639a3043f15ea50218449268f84f9ab6e6d9f9b2bbc7e080e4513256e12"
  },
  "kernelspec": {
   "display_name": "Python 3.7.10 64-bit ('montVenv': conda)",
   "language": "python",
   "name": "python3"
  },
  "language_info": {
   "codemirror_mode": {
    "name": "ipython",
    "version": 3
   },
   "file_extension": ".py",
   "mimetype": "text/x-python",
   "name": "python",
   "nbconvert_exporter": "python",
   "pygments_lexer": "ipython3",
   "version": "3.7.10"
  },
  "orig_nbformat": 4
 },
 "nbformat": 4,
 "nbformat_minor": 2
}
